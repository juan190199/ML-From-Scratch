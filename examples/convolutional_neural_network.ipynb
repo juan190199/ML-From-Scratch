{
 "cells": [
  {
   "cell_type": "markdown",
   "source": [
    "## Convolutional Neural Network\n",
    "***\n"
   ],
   "metadata": {
    "collapsed": false
   }
  },
  {
   "cell_type": "code",
   "execution_count": 1,
   "outputs": [
    {
     "name": "stderr",
     "output_type": "stream",
     "text": [
      "UsageError: Line magic function `%` not found.\n"
     ]
    }
   ],
   "source": [
    "from sklearn import datasets\n",
    "\n",
    "import math\n",
    "import numpy as np\n",
    "\n",
    "import matplotlib.pyplot as plt\n",
    "\n",
    "from deep_learning.neural_network import NeuralNetwork\n",
    "from deep_learning.optimizers import StochasticGradientDescent, Adam, RMSprop, Adagrad, Adadelta\n",
    "from deep_learning.loss_functions import CrossEntropy\n",
    "from deep_learning.layers import (Dense, Dropout, Conv2D, Activation, MaxPooling2D,\n",
    "                                  AveragePooling2D, ZeroPadding2D)\n",
    "\n",
    "from utils.data_manipulation import train_test_split, normalize, shuffle_data, to_categorical\n",
    "from utils.data_operation import accuracy_score\n",
    "from utils.misc import Plot, bar_widgets\n",
    "\n",
    "\n",
    "% load_ext autoreload\n",
    "% autoreload 2"
   ],
   "metadata": {
    "collapsed": false,
    "pycharm": {
     "name": "#%%\n"
    }
   }
  },
  {
   "cell_type": "code",
   "execution_count": null,
   "outputs": [],
   "source": [
    "data = datasets.load_digits()\n",
    "X = data.data\n",
    "y = data.target\n",
    "\n",
    "# Convert to one-hot encoding\n",
    "y = to_categorical(y.astype('int'))\n",
    "\n",
    "\n",
    "X_train, X_test, y_train, y_test = train_test_split(X, y, test_size=0.33, seed=1)\n",
    "\n",
    "# Reshape X to (n_samples, channels, height, width)\n",
    "X_train = X_train.reshape((-1, 1, 8, 8))\n",
    "X_test = X_test.reshape((-1, 1, 8, 8))\n"
   ],
   "metadata": {
    "collapsed": false,
    "pycharm": {
     "name": "#%%\n"
    }
   }
  }
 ],
 "metadata": {
  "kernelspec": {
   "display_name": "Python 3",
   "language": "python",
   "name": "python3"
  },
  "language_info": {
   "codemirror_mode": {
    "name": "ipython",
    "version": 2
   },
   "file_extension": ".py",
   "mimetype": "text/x-python",
   "name": "python",
   "nbconvert_exporter": "python",
   "pygments_lexer": "ipython2",
   "version": "2.7.6"
  }
 },
 "nbformat": 4,
 "nbformat_minor": 0
}